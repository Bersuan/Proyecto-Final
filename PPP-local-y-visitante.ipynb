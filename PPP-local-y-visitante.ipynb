{
 "cells": [
  {
   "cell_type": "code",
   "execution_count": 1,
   "metadata": {},
   "outputs": [],
   "source": [
    "import pandas as pd"
   ]
  },
  {
   "cell_type": "markdown",
   "metadata": {},
   "source": [
    "### PUNTOS POR PARTIDO LOCAL Y VISITANTE"
   ]
  },
  {
   "cell_type": "code",
   "execution_count": 2,
   "metadata": {},
   "outputs": [
    {
     "data": {
      "text/plain": [
       "Index(['GAME_DATE_EST', 'GAME_ID', 'GAME_STATUS_TEXT', 'HOME_TEAM_ID',\n",
       "       'VISITOR_TEAM_ID', 'SEASON', 'TEAM_ID_home', 'PTS_home', 'FG_PCT_home',\n",
       "       'FT_PCT_home', 'FG3_PCT_home', 'AST_home', 'REB_home', 'TEAM_ID_away',\n",
       "       'PTS_away', 'FG_PCT_away', 'FT_PCT_away', 'FG3_PCT_away', 'AST_away',\n",
       "       'REB_away', 'HOME_TEAM_WINS'],\n",
       "      dtype='object')"
      ]
     },
     "execution_count": 2,
     "metadata": {},
     "output_type": "execute_result"
    }
   ],
   "source": [
    "df = pd.read_csv('input/games.csv')\n",
    "df.columns"
   ]
  },
  {
   "cell_type": "code",
   "execution_count": 3,
   "metadata": {},
   "outputs": [],
   "source": [
    "df = df[['GAME_DATE_EST', 'GAME_ID', 'HOME_TEAM_ID',\n",
    "       'VISITOR_TEAM_ID', 'SEASON', \n",
    "        'PTS_home', 'FG_PCT_home', 'FT_PCT_home', 'FG3_PCT_home',\n",
    "       'AST_home', 'REB_home', 'PTS_away',\n",
    "        'FG_PCT_away', 'FT_PCT_away', 'FG3_PCT_away',\n",
    "       'AST_away', 'REB_away', 'HOME_TEAM_WINS']]"
   ]
  },
  {
   "cell_type": "code",
   "execution_count": 7,
   "metadata": {},
   "outputs": [],
   "source": [
    "prueba = df.head()"
   ]
  },
  {
   "cell_type": "code",
   "execution_count": 6,
   "metadata": {},
   "outputs": [
    {
     "data": {
      "text/plain": [
       "GAME_DATE_EST       object\n",
       "GAME_ID              int64\n",
       "HOME_TEAM_ID         int64\n",
       "VISITOR_TEAM_ID      int64\n",
       "SEASON               int64\n",
       "PTS_home           float64\n",
       "FG_PCT_home        float64\n",
       "FT_PCT_home        float64\n",
       "FG3_PCT_home       float64\n",
       "AST_home           float64\n",
       "REB_home           float64\n",
       "PTS_away           float64\n",
       "FG_PCT_away        float64\n",
       "FT_PCT_away        float64\n",
       "FG3_PCT_away       float64\n",
       "AST_away           float64\n",
       "REB_away           float64\n",
       "HOME_TEAM_WINS       int64\n",
       "dtype: object"
      ]
     },
     "execution_count": 6,
     "metadata": {},
     "output_type": "execute_result"
    }
   ],
   "source": [
    "prueba.dtypes"
   ]
  },
  {
   "cell_type": "code",
   "execution_count": 8,
   "metadata": {},
   "outputs": [
    {
     "name": "stderr",
     "output_type": "stream",
     "text": [
      "<ipython-input-8-6227d67093d1>:3: SettingWithCopyWarning: \n",
      "A value is trying to be set on a copy of a slice from a DataFrame.\n",
      "Try using .loc[row_indexer,col_indexer] = value instead\n",
      "\n",
      "See the caveats in the documentation: http://pandas.pydata.org/pandas-docs/stable/user_guide/indexing.html#returning-a-view-versus-a-copy\n",
      "  prueba[i] = prueba[i].astype('category')\n"
     ]
    }
   ],
   "source": [
    "categoricalColumns = ['GAME_ID', 'HOME_TEAM_ID', 'VISITOR_TEAM_ID','HOME_TEAM_WINS', 'SEASON']\n",
    "for i in categoricalColumns:\n",
    "    prueba[i] = prueba[i].astype('category')"
   ]
  },
  {
   "cell_type": "code",
   "execution_count": 13,
   "metadata": {},
   "outputs": [
    {
     "data": {
      "text/html": [
       "<div>\n",
       "<style scoped>\n",
       "    .dataframe tbody tr th:only-of-type {\n",
       "        vertical-align: middle;\n",
       "    }\n",
       "\n",
       "    .dataframe tbody tr th {\n",
       "        vertical-align: top;\n",
       "    }\n",
       "\n",
       "    .dataframe thead th {\n",
       "        text-align: right;\n",
       "    }\n",
       "</style>\n",
       "<table border=\"1\" class=\"dataframe\">\n",
       "  <thead>\n",
       "    <tr style=\"text-align: right;\">\n",
       "      <th></th>\n",
       "      <th>PTS_home</th>\n",
       "      <th>FG_PCT_home</th>\n",
       "      <th>FT_PCT_home</th>\n",
       "      <th>FG3_PCT_home</th>\n",
       "      <th>AST_home</th>\n",
       "      <th>REB_home</th>\n",
       "      <th>PTS_away</th>\n",
       "      <th>FG_PCT_away</th>\n",
       "      <th>FT_PCT_away</th>\n",
       "      <th>FG3_PCT_away</th>\n",
       "      <th>AST_away</th>\n",
       "      <th>REB_away</th>\n",
       "    </tr>\n",
       "  </thead>\n",
       "  <tbody>\n",
       "    <tr>\n",
       "      <th>count</th>\n",
       "      <td>5.000000</td>\n",
       "      <td>5.000000</td>\n",
       "      <td>5.000000</td>\n",
       "      <td>5.000000</td>\n",
       "      <td>5.000000</td>\n",
       "      <td>5.000000</td>\n",
       "      <td>5.000000</td>\n",
       "      <td>5.000000</td>\n",
       "      <td>5.000000</td>\n",
       "      <td>5.000000</td>\n",
       "      <td>5.000000</td>\n",
       "      <td>5.000000</td>\n",
       "    </tr>\n",
       "    <tr>\n",
       "      <th>mean</th>\n",
       "      <td>110.200000</td>\n",
       "      <td>0.456600</td>\n",
       "      <td>0.738000</td>\n",
       "      <td>0.367600</td>\n",
       "      <td>24.400000</td>\n",
       "      <td>46.600000</td>\n",
       "      <td>110.400000</td>\n",
       "      <td>0.449800</td>\n",
       "      <td>0.721600</td>\n",
       "      <td>0.336200</td>\n",
       "      <td>24.400000</td>\n",
       "      <td>46.400000</td>\n",
       "    </tr>\n",
       "    <tr>\n",
       "      <th>std</th>\n",
       "      <td>23.488295</td>\n",
       "      <td>0.113867</td>\n",
       "      <td>0.204957</td>\n",
       "      <td>0.143793</td>\n",
       "      <td>8.080842</td>\n",
       "      <td>7.924645</td>\n",
       "      <td>14.604794</td>\n",
       "      <td>0.042258</td>\n",
       "      <td>0.110151</td>\n",
       "      <td>0.115003</td>\n",
       "      <td>3.209361</td>\n",
       "      <td>11.414903</td>\n",
       "    </tr>\n",
       "    <tr>\n",
       "      <th>min</th>\n",
       "      <td>85.000000</td>\n",
       "      <td>0.354000</td>\n",
       "      <td>0.400000</td>\n",
       "      <td>0.229000</td>\n",
       "      <td>18.000000</td>\n",
       "      <td>37.000000</td>\n",
       "      <td>93.000000</td>\n",
       "      <td>0.402000</td>\n",
       "      <td>0.632000</td>\n",
       "      <td>0.226000</td>\n",
       "      <td>20.000000</td>\n",
       "      <td>36.000000</td>\n",
       "    </tr>\n",
       "    <tr>\n",
       "      <th>25%</th>\n",
       "      <td>91.000000</td>\n",
       "      <td>0.364000</td>\n",
       "      <td>0.700000</td>\n",
       "      <td>0.257000</td>\n",
       "      <td>19.000000</td>\n",
       "      <td>41.000000</td>\n",
       "      <td>100.000000</td>\n",
       "      <td>0.413000</td>\n",
       "      <td>0.650000</td>\n",
       "      <td>0.263000</td>\n",
       "      <td>23.000000</td>\n",
       "      <td>37.000000</td>\n",
       "    </tr>\n",
       "    <tr>\n",
       "      <th>50%</th>\n",
       "      <td>106.000000</td>\n",
       "      <td>0.407000</td>\n",
       "      <td>0.805000</td>\n",
       "      <td>0.310000</td>\n",
       "      <td>22.000000</td>\n",
       "      <td>47.000000</td>\n",
       "      <td>111.000000</td>\n",
       "      <td>0.461000</td>\n",
       "      <td>0.667000</td>\n",
       "      <td>0.275000</td>\n",
       "      <td>24.000000</td>\n",
       "      <td>42.000000</td>\n",
       "    </tr>\n",
       "    <tr>\n",
       "      <th>75%</th>\n",
       "      <td>133.000000</td>\n",
       "      <td>0.566000</td>\n",
       "      <td>0.885000</td>\n",
       "      <td>0.500000</td>\n",
       "      <td>25.000000</td>\n",
       "      <td>51.000000</td>\n",
       "      <td>118.000000</td>\n",
       "      <td>0.468000</td>\n",
       "      <td>0.762000</td>\n",
       "      <td>0.429000</td>\n",
       "      <td>27.000000</td>\n",
       "      <td>56.000000</td>\n",
       "    </tr>\n",
       "    <tr>\n",
       "      <th>max</th>\n",
       "      <td>136.000000</td>\n",
       "      <td>0.592000</td>\n",
       "      <td>0.900000</td>\n",
       "      <td>0.542000</td>\n",
       "      <td>38.000000</td>\n",
       "      <td>57.000000</td>\n",
       "      <td>130.000000</td>\n",
       "      <td>0.505000</td>\n",
       "      <td>0.897000</td>\n",
       "      <td>0.488000</td>\n",
       "      <td>28.000000</td>\n",
       "      <td>61.000000</td>\n",
       "    </tr>\n",
       "  </tbody>\n",
       "</table>\n",
       "</div>"
      ],
      "text/plain": [
       "         PTS_home  FG_PCT_home  FT_PCT_home  FG3_PCT_home   AST_home  \\\n",
       "count    5.000000     5.000000     5.000000      5.000000   5.000000   \n",
       "mean   110.200000     0.456600     0.738000      0.367600  24.400000   \n",
       "std     23.488295     0.113867     0.204957      0.143793   8.080842   \n",
       "min     85.000000     0.354000     0.400000      0.229000  18.000000   \n",
       "25%     91.000000     0.364000     0.700000      0.257000  19.000000   \n",
       "50%    106.000000     0.407000     0.805000      0.310000  22.000000   \n",
       "75%    133.000000     0.566000     0.885000      0.500000  25.000000   \n",
       "max    136.000000     0.592000     0.900000      0.542000  38.000000   \n",
       "\n",
       "        REB_home    PTS_away  FG_PCT_away  FT_PCT_away  FG3_PCT_away  \\\n",
       "count   5.000000    5.000000     5.000000     5.000000      5.000000   \n",
       "mean   46.600000  110.400000     0.449800     0.721600      0.336200   \n",
       "std     7.924645   14.604794     0.042258     0.110151      0.115003   \n",
       "min    37.000000   93.000000     0.402000     0.632000      0.226000   \n",
       "25%    41.000000  100.000000     0.413000     0.650000      0.263000   \n",
       "50%    47.000000  111.000000     0.461000     0.667000      0.275000   \n",
       "75%    51.000000  118.000000     0.468000     0.762000      0.429000   \n",
       "max    57.000000  130.000000     0.505000     0.897000      0.488000   \n",
       "\n",
       "        AST_away   REB_away  \n",
       "count   5.000000   5.000000  \n",
       "mean   24.400000  46.400000  \n",
       "std     3.209361  11.414903  \n",
       "min    20.000000  36.000000  \n",
       "25%    23.000000  37.000000  \n",
       "50%    24.000000  42.000000  \n",
       "75%    27.000000  56.000000  \n",
       "max    28.000000  61.000000  "
      ]
     },
     "execution_count": 13,
     "metadata": {},
     "output_type": "execute_result"
    }
   ],
   "source": [
    "prueba.describe()"
   ]
  },
  {
   "cell_type": "code",
   "execution_count": null,
   "metadata": {},
   "outputs": [],
   "source": []
  }
 ],
 "metadata": {
  "kernelspec": {
   "display_name": "Python 3",
   "language": "python",
   "name": "python3"
  },
  "language_info": {
   "codemirror_mode": {
    "name": "ipython",
    "version": 3
   },
   "file_extension": ".py",
   "mimetype": "text/x-python",
   "name": "python",
   "nbconvert_exporter": "python",
   "pygments_lexer": "ipython3",
   "version": "3.8.1"
  }
 },
 "nbformat": 4,
 "nbformat_minor": 4
}
