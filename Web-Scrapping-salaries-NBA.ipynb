{
 "cells": [
  {
   "cell_type": "code",
   "execution_count": 2,
   "metadata": {},
   "outputs": [],
   "source": [
    "import requests\n",
    "from bs4 import BeautifulSoup\n",
    "import pandas as pd\n",
    "import re"
   ]
  },
  {
   "cell_type": "code",
   "execution_count": 3,
   "metadata": {},
   "outputs": [],
   "source": [
    "url = 'https://www.dbasket.es/salarios-brooklyn-nets/'\n",
    "salary = requests.get(url)\n",
    "soup = BeautifulSoup(salary.text, 'html.parser')"
   ]
  },
  {
   "cell_type": "code",
   "execution_count": 4,
   "metadata": {},
   "outputs": [],
   "source": [
    "teams =['atlanta-hawks', \n",
    "        'boston-celtics', \n",
    "        'brooklyn-nets', \n",
    "        'charlotte-hornets', \n",
    "        'chicago-bulls', \n",
    "        'cleveland-cavaliers', \n",
    "        'dallas-mavericks', \n",
    "        'denver-nuggets', \n",
    "        'detroit-pistons', \n",
    "        'golden-state-warriors', \n",
    "        'houston-rockets', \n",
    "        'indiana-pacers', \n",
    "        'los-angeles-clippers', \n",
    "        'los Angeles-lakers', \n",
    "        'memphis-grizzlies', \n",
    "        'miami-heat', \n",
    "        'milwaukee-bucks',\n",
    "        'minnesota-timberwolves',\n",
    "        'new-orleans-pelicans',\n",
    "        'new-york-knicks',\n",
    "        'oklahoma-city-thunder',\n",
    "        'orlando-magic',\n",
    "        'philadelphia-76ers',\n",
    "        'phoenix-suns',\n",
    "        'portland-trail-blazers',\n",
    "        'sacramento-kings',\n",
    "        'san-antonio-spurs', \n",
    "        'toronto-raptors', \n",
    "        'utah-jazz', \n",
    "        'washington-wizards']"
   ]
  },
  {
   "cell_type": "code",
   "execution_count": 5,
   "metadata": {
    "scrolled": false
   },
   "outputs": [],
   "source": [
    "todo={'equipo':[],'nombre':[],'salarios':[]}\n",
    "for e in range(30):  \n",
    "    url = f'https://www.dbasket.es/salarios-{teams[e]}/'\n",
    "    salary = requests.get(url)\n",
    "    soup = BeautifulSoup(salary.text, 'html.parser')\n",
    "    s=soup.select('table tr')\n",
    "    nombres = []\n",
    "    salarios = []\n",
    "    try:\n",
    "        for i in range(2,20):\n",
    "            todo['nombre'].append(s[i].select('td a')[0].text)\n",
    "            todo['salarios'].append(s[i].select('td')[1].text)\n",
    "            todo['equipo'].append(teams[e])\n",
    "    except Exception as x:\n",
    "        pass"
   ]
  },
  {
   "cell_type": "code",
   "execution_count": 6,
   "metadata": {},
   "outputs": [],
   "source": [
    "df = pd.DataFrame(todo)"
   ]
  },
  {
   "cell_type": "code",
   "execution_count": 8,
   "metadata": {},
   "outputs": [],
   "source": [
    "df.to_csv('input/salaries.csv')"
   ]
  },
  {
   "cell_type": "code",
   "execution_count": null,
   "metadata": {},
   "outputs": [],
   "source": []
  }
 ],
 "metadata": {
  "kernelspec": {
   "display_name": "Python 3",
   "language": "python",
   "name": "python3"
  },
  "language_info": {
   "codemirror_mode": {
    "name": "ipython",
    "version": 3
   },
   "file_extension": ".py",
   "mimetype": "text/x-python",
   "name": "python",
   "nbconvert_exporter": "python",
   "pygments_lexer": "ipython3",
   "version": "3.8.1"
  }
 },
 "nbformat": 4,
 "nbformat_minor": 4
}
