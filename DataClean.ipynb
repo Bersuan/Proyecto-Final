{
 "cells": [
  {
   "cell_type": "code",
   "execution_count": 1,
   "metadata": {},
   "outputs": [],
   "source": [
    "%matplotlib inline\n",
    "\n",
    "import matplotlib.pyplot as plt\n",
    "import numpy as np\n",
    "import pandas as pd\n",
    "import seaborn as sns\n",
    "from datetime import datetime as dt\n",
    "from sklearn.metrics import *"
   ]
  },
  {
   "cell_type": "code",
   "execution_count": 2,
   "metadata": {},
   "outputs": [],
   "source": [
    "games = pd.read_csv('input/games.csv')"
   ]
  },
  {
   "cell_type": "code",
   "execution_count": 3,
   "metadata": {},
   "outputs": [],
   "source": [
    "teams = pd.read_csv('input/teams.csv')"
   ]
  },
  {
   "cell_type": "code",
   "execution_count": 4,
   "metadata": {},
   "outputs": [],
   "source": [
    "players = pd.read_csv('input/players.csv')"
   ]
  },
  {
   "cell_type": "code",
   "execution_count": 5,
   "metadata": {},
   "outputs": [],
   "source": [
    "ranking = pd.read_csv('input/ranking.csv')"
   ]
  },
  {
   "cell_type": "code",
   "execution_count": 6,
   "metadata": {},
   "outputs": [],
   "source": [
    "salaries = pd.read_csv('input/salaries.csv')"
   ]
  },
  {
   "cell_type": "code",
   "execution_count": 7,
   "metadata": {},
   "outputs": [],
   "source": [
    "games = games.drop(columns = [\"TEAM_ID_home\",\"TEAM_ID_away\",\"GAME_STATUS_TEXT\"])"
   ]
  },
  {
   "cell_type": "code",
   "execution_count": 8,
   "metadata": {},
   "outputs": [],
   "source": [
    "games = games.rename(columns={'GAME_DATE_EST':'FECHA',\n",
    "                              'HOME_TEAM_ID':'EQUIPO_LOCAL_ID',\n",
    "                              'VISITOR_TEAM_ID':'EQUIPO_VISITANTE_ID',\n",
    "                              'SEASON':'TEMPORADA',\n",
    "                              'PTS_home':'PTS_LOCAL',\n",
    "                              'FG_PCT_home':'%TC_LOCAL',\n",
    "                              'FT_PCT_home':'%TL_LOCAL',\n",
    "                              'FG3_PCT_home':'%3P_LOCAL',\n",
    "                              'AST_home':'AST_LOCAL',\n",
    "                              'REB_home':'REB_LOCAL',\n",
    "                              'PTS_away':'PTS_VISITANTE',\n",
    "                              'FG_PCT_away':'%TC_VISITANTE',\n",
    "                              'FT_PCT_away':'%TL_VISITANTE',\n",
    "                              'FG3_PCT_away':'%3P_VISITANTE',\n",
    "                              'AST_away':'AST_VISITANTE',\n",
    "                              'REB_away':'REB_VISITANTE',\n",
    "                              'HOME_TEAM_WINS':'VICTORIA'})"
   ]
  },
  {
   "cell_type": "code",
   "execution_count": 9,
   "metadata": {},
   "outputs": [
    {
     "data": {
      "text/html": [
       "<div>\n",
       "<style scoped>\n",
       "    .dataframe tbody tr th:only-of-type {\n",
       "        vertical-align: middle;\n",
       "    }\n",
       "\n",
       "    .dataframe tbody tr th {\n",
       "        vertical-align: top;\n",
       "    }\n",
       "\n",
       "    .dataframe thead th {\n",
       "        text-align: right;\n",
       "    }\n",
       "</style>\n",
       "<table border=\"1\" class=\"dataframe\">\n",
       "  <thead>\n",
       "    <tr style=\"text-align: right;\">\n",
       "      <th></th>\n",
       "      <th>FECHA</th>\n",
       "      <th>GAME_ID</th>\n",
       "      <th>EQUIPO_LOCAL_ID</th>\n",
       "      <th>EQUIPO_VISITANTE_ID</th>\n",
       "      <th>TEMPORADA</th>\n",
       "      <th>PTS_LOCAL</th>\n",
       "      <th>%TC_LOCAL</th>\n",
       "      <th>%TL_LOCAL</th>\n",
       "      <th>%3P_LOCAL</th>\n",
       "      <th>AST_LOCAL</th>\n",
       "      <th>REB_LOCAL</th>\n",
       "      <th>PTS_VISITANTE</th>\n",
       "      <th>%TC_VISITANTE</th>\n",
       "      <th>%TL_VISITANTE</th>\n",
       "      <th>%3P_VISITANTE</th>\n",
       "      <th>AST_VISITANTE</th>\n",
       "      <th>REB_VISITANTE</th>\n",
       "      <th>VICTORIA</th>\n",
       "    </tr>\n",
       "  </thead>\n",
       "  <tbody>\n",
       "    <tr>\n",
       "      <th>0</th>\n",
       "      <td>2020-03-01</td>\n",
       "      <td>21900895</td>\n",
       "      <td>1610612766</td>\n",
       "      <td>1610612749</td>\n",
       "      <td>2019</td>\n",
       "      <td>85.0</td>\n",
       "      <td>0.354</td>\n",
       "      <td>0.900</td>\n",
       "      <td>0.229</td>\n",
       "      <td>22.0</td>\n",
       "      <td>47.0</td>\n",
       "      <td>93.0</td>\n",
       "      <td>0.402</td>\n",
       "      <td>0.762</td>\n",
       "      <td>0.226</td>\n",
       "      <td>20.0</td>\n",
       "      <td>61.0</td>\n",
       "      <td>0</td>\n",
       "    </tr>\n",
       "    <tr>\n",
       "      <th>1</th>\n",
       "      <td>2020-03-01</td>\n",
       "      <td>21900896</td>\n",
       "      <td>1610612750</td>\n",
       "      <td>1610612742</td>\n",
       "      <td>2019</td>\n",
       "      <td>91.0</td>\n",
       "      <td>0.364</td>\n",
       "      <td>0.400</td>\n",
       "      <td>0.310</td>\n",
       "      <td>19.0</td>\n",
       "      <td>57.0</td>\n",
       "      <td>111.0</td>\n",
       "      <td>0.468</td>\n",
       "      <td>0.632</td>\n",
       "      <td>0.275</td>\n",
       "      <td>28.0</td>\n",
       "      <td>56.0</td>\n",
       "      <td>0</td>\n",
       "    </tr>\n",
       "    <tr>\n",
       "      <th>2</th>\n",
       "      <td>2020-03-01</td>\n",
       "      <td>21900897</td>\n",
       "      <td>1610612746</td>\n",
       "      <td>1610612755</td>\n",
       "      <td>2019</td>\n",
       "      <td>136.0</td>\n",
       "      <td>0.592</td>\n",
       "      <td>0.805</td>\n",
       "      <td>0.542</td>\n",
       "      <td>25.0</td>\n",
       "      <td>37.0</td>\n",
       "      <td>130.0</td>\n",
       "      <td>0.505</td>\n",
       "      <td>0.650</td>\n",
       "      <td>0.488</td>\n",
       "      <td>27.0</td>\n",
       "      <td>37.0</td>\n",
       "      <td>1</td>\n",
       "    </tr>\n",
       "    <tr>\n",
       "      <th>3</th>\n",
       "      <td>2020-03-01</td>\n",
       "      <td>21900898</td>\n",
       "      <td>1610612743</td>\n",
       "      <td>1610612761</td>\n",
       "      <td>2019</td>\n",
       "      <td>133.0</td>\n",
       "      <td>0.566</td>\n",
       "      <td>0.700</td>\n",
       "      <td>0.500</td>\n",
       "      <td>38.0</td>\n",
       "      <td>41.0</td>\n",
       "      <td>118.0</td>\n",
       "      <td>0.461</td>\n",
       "      <td>0.897</td>\n",
       "      <td>0.263</td>\n",
       "      <td>24.0</td>\n",
       "      <td>36.0</td>\n",
       "      <td>1</td>\n",
       "    </tr>\n",
       "    <tr>\n",
       "      <th>4</th>\n",
       "      <td>2020-03-01</td>\n",
       "      <td>21900899</td>\n",
       "      <td>1610612758</td>\n",
       "      <td>1610612765</td>\n",
       "      <td>2019</td>\n",
       "      <td>106.0</td>\n",
       "      <td>0.407</td>\n",
       "      <td>0.885</td>\n",
       "      <td>0.257</td>\n",
       "      <td>18.0</td>\n",
       "      <td>51.0</td>\n",
       "      <td>100.0</td>\n",
       "      <td>0.413</td>\n",
       "      <td>0.667</td>\n",
       "      <td>0.429</td>\n",
       "      <td>23.0</td>\n",
       "      <td>42.0</td>\n",
       "      <td>1</td>\n",
       "    </tr>\n",
       "  </tbody>\n",
       "</table>\n",
       "</div>"
      ],
      "text/plain": [
       "        FECHA   GAME_ID  EQUIPO_LOCAL_ID  EQUIPO_VISITANTE_ID  TEMPORADA  \\\n",
       "0  2020-03-01  21900895       1610612766           1610612749       2019   \n",
       "1  2020-03-01  21900896       1610612750           1610612742       2019   \n",
       "2  2020-03-01  21900897       1610612746           1610612755       2019   \n",
       "3  2020-03-01  21900898       1610612743           1610612761       2019   \n",
       "4  2020-03-01  21900899       1610612758           1610612765       2019   \n",
       "\n",
       "   PTS_LOCAL  %TC_LOCAL  %TL_LOCAL  %3P_LOCAL  AST_LOCAL  REB_LOCAL  \\\n",
       "0       85.0      0.354      0.900      0.229       22.0       47.0   \n",
       "1       91.0      0.364      0.400      0.310       19.0       57.0   \n",
       "2      136.0      0.592      0.805      0.542       25.0       37.0   \n",
       "3      133.0      0.566      0.700      0.500       38.0       41.0   \n",
       "4      106.0      0.407      0.885      0.257       18.0       51.0   \n",
       "\n",
       "   PTS_VISITANTE  %TC_VISITANTE  %TL_VISITANTE  %3P_VISITANTE  AST_VISITANTE  \\\n",
       "0           93.0          0.402          0.762          0.226           20.0   \n",
       "1          111.0          0.468          0.632          0.275           28.0   \n",
       "2          130.0          0.505          0.650          0.488           27.0   \n",
       "3          118.0          0.461          0.897          0.263           24.0   \n",
       "4          100.0          0.413          0.667          0.429           23.0   \n",
       "\n",
       "   REB_VISITANTE  VICTORIA  \n",
       "0           61.0         0  \n",
       "1           56.0         0  \n",
       "2           37.0         1  \n",
       "3           36.0         1  \n",
       "4           42.0         1  "
      ]
     },
     "execution_count": 9,
     "metadata": {},
     "output_type": "execute_result"
    }
   ],
   "source": [
    "games.head()"
   ]
  },
  {
   "cell_type": "code",
   "execution_count": 10,
   "metadata": {},
   "outputs": [],
   "source": [
    "categoricalColumns = ['EQUIPO_LOCAL_ID', 'EQUIPO_VISITANTE_ID', 'GAME_ID','VICTORIA']\n",
    "for i in categoricalColumns:\n",
    "    games[i] = games[i].astype('category')\n"
   ]
  },
  {
   "cell_type": "code",
   "execution_count": 11,
   "metadata": {},
   "outputs": [],
   "source": [
    "#games = pd.get_dummies(games, prefix=['VICTORIA'], columns=['VICTORIA'])"
   ]
  },
  {
   "cell_type": "code",
   "execution_count": 12,
   "metadata": {},
   "outputs": [],
   "source": [
    "games['VICTORIA']= games['VICTORIA'].replace({0: 'VISITANTE', 1: 'LOCAL'})"
   ]
  },
  {
   "cell_type": "code",
   "execution_count": 13,
   "metadata": {},
   "outputs": [],
   "source": [
    "games.to_csv('output/gamesClean.csv')"
   ]
  },
  {
   "cell_type": "code",
   "execution_count": 14,
   "metadata": {
    "scrolled": true
   },
   "outputs": [
    {
     "data": {
      "text/plain": [
       "Index(['FECHA', 'GAME_ID', 'EQUIPO_LOCAL_ID', 'EQUIPO_VISITANTE_ID',\n",
       "       'TEMPORADA', 'PTS_LOCAL', '%TC_LOCAL', '%TL_LOCAL', '%3P_LOCAL',\n",
       "       'AST_LOCAL', 'REB_LOCAL', 'PTS_VISITANTE', '%TC_VISITANTE',\n",
       "       '%TL_VISITANTE', '%3P_VISITANTE', 'AST_VISITANTE', 'REB_VISITANTE',\n",
       "       'VICTORIA'],\n",
       "      dtype='object')"
      ]
     },
     "execution_count": 14,
     "metadata": {},
     "output_type": "execute_result"
    }
   ],
   "source": [
    "games.columns"
   ]
  },
  {
   "cell_type": "code",
   "execution_count": null,
   "metadata": {},
   "outputs": [],
   "source": [
    "#games = games.rename(columns={'VICTORIA_1':'VICTORIA_LOCAL',\n",
    "#                             'VICTORIA_0':'VICTORIA_VISITANTE'\n",
    "#                             })"
   ]
  },
  {
   "cell_type": "code",
   "execution_count": null,
   "metadata": {},
   "outputs": [],
   "source": [
    "#len(games.VICTORIA_VISITANTE)"
   ]
  },
  {
   "cell_type": "code",
   "execution_count": null,
   "metadata": {},
   "outputs": [],
   "source": [
    "#games['RESULTADO_V_L'] = games[['VICTORIA_VISITANTE','VICTORIA_LOCAL']].apply(lambda x: pd.Series([x.values]), axis=1)"
   ]
  },
  {
   "cell_type": "code",
   "execution_count": null,
   "metadata": {},
   "outputs": [],
   "source": [
    "#games = games.drop(columns = [\"VICTORIA_VISITANTE\",\"VICTORIA_LOCAL\"])"
   ]
  },
  {
   "cell_type": "code",
   "execution_count": null,
   "metadata": {},
   "outputs": [],
   "source": [
    "#games.head()"
   ]
  },
  {
   "cell_type": "code",
   "execution_count": null,
   "metadata": {},
   "outputs": [],
   "source": [
    "games = games.dropna()"
   ]
  },
  {
   "cell_type": "code",
   "execution_count": null,
   "metadata": {},
   "outputs": [],
   "source": [
    "games.isnull().sum()"
   ]
  },
  {
   "cell_type": "code",
   "execution_count": null,
   "metadata": {},
   "outputs": [],
   "source": [
    "games.dtypes"
   ]
  },
  {
   "cell_type": "code",
   "execution_count": null,
   "metadata": {},
   "outputs": [],
   "source": [
    "games['FECHA'] = pd.to_datetime(games['FECHA'])\n",
    "games['FECHA'] = games['FECHA'].apply(lambda x: x.toordinal())"
   ]
  },
  {
   "cell_type": "code",
   "execution_count": null,
   "metadata": {},
   "outputs": [],
   "source": [
    "games.head()"
   ]
  },
  {
   "cell_type": "code",
   "execution_count": null,
   "metadata": {},
   "outputs": [],
   "source": [
    "y = games.VICTORIA"
   ]
  },
  {
   "cell_type": "code",
   "execution_count": null,
   "metadata": {},
   "outputs": [],
   "source": [
    "X = games.drop(columns =['VICTORIA','GAME_ID','EQUIPO_LOCAL_ID','EQUIPO_VISITANTE_ID','PTS_LOCAL','PTS_VISITANTE'])"
   ]
  },
  {
   "cell_type": "code",
   "execution_count": null,
   "metadata": {},
   "outputs": [],
   "source": [
    "print(y.shape)\n",
    "print(X.shape)"
   ]
  },
  {
   "cell_type": "code",
   "execution_count": null,
   "metadata": {
    "scrolled": false
   },
   "outputs": [],
   "source": [
    "from sklearn.preprocessing import StandardScaler, Normalizer\n",
    "from sklearn.pipeline import make_pipeline\n",
    "pipeline = [\n",
    "    StandardScaler(),\n",
    "    Normalizer(),\n",
    "]\n",
    "\n",
    "tr = make_pipeline(*pipeline)\n",
    "\n",
    "Xpr = tr.fit_transform(X)\n",
    "Xpr = pd.DataFrame(Xpr,columns=X.columns)\n",
    "print(Xpr.info())\n",
    "Xpr.head()"
   ]
  },
  {
   "cell_type": "code",
   "execution_count": null,
   "metadata": {},
   "outputs": [],
   "source": [
    "from sklearn.model_selection import train_test_split\n",
    "\n",
    "Xpr_train, Xpr_test, y_train, y_test = train_test_split(Xpr, y, test_size=0.2)"
   ]
  },
  {
   "cell_type": "code",
   "execution_count": null,
   "metadata": {},
   "outputs": [],
   "source": [
    "print(Xpr_train.shape)\n",
    "print(Xpr_test.shape)\n",
    "print(y_train.shape)\n",
    "print(y_test.shape)"
   ]
  },
  {
   "cell_type": "code",
   "execution_count": null,
   "metadata": {},
   "outputs": [],
   "source": [
    "from sklearn.ensemble import RandomForestClassifier\n",
    "\n",
    "model = RandomForestClassifier(n_estimators=800, max_depth=20, min_samples_leaf=3, random_state=111, n_jobs = -1)\n",
    "\n",
    "model.fit(Xpr_train, y_train)"
   ]
  },
  {
   "cell_type": "code",
   "execution_count": null,
   "metadata": {},
   "outputs": [],
   "source": [
    "y_pred=model.predict(Xpr_test)\n",
    "print('Accurancy', accuracy_score(y_test, y_pred))\n",
    "print(\"Precision\", precision_score(y_test, y_pred, average='weighted'))\n",
    "print(\"Recall\", recall_score(y_test, y_pred, average='weighted'))"
   ]
  },
  {
   "cell_type": "code",
   "execution_count": null,
   "metadata": {},
   "outputs": [],
   "source": [
    "model.predict_proba(Xpr_test)"
   ]
  },
  {
   "cell_type": "code",
   "execution_count": null,
   "metadata": {},
   "outputs": [],
   "source": [
    "from sklearn.metrics import roc_auc_score\n",
    "from sklearn.metrics import roc_curve\n",
    "import matplotlib.pyplot as plt\n",
    "\n",
    "y_score = model.predict_proba(Xpr_test)\n",
    "\n",
    "\n",
    "display(pd.DataFrame({\n",
    "    \"real\":y_pred,\n",
    "    \"predicted\":y_test,\n",
    "    \"probaVisitante\":y_score[:,1],\n",
    "    \"probaLocal\":y_score[:,0]\n",
    "}).head(30))\n"
   ]
  },
  {
   "cell_type": "code",
   "execution_count": null,
   "metadata": {},
   "outputs": [],
   "source": [
    "games.to_json(\"output/games.json\", orient=\"records\")"
   ]
  },
  {
   "cell_type": "code",
   "execution_count": null,
   "metadata": {},
   "outputs": [],
   "source": [
    "mongoimport --db nba --collection games --jsonArray --drop games.json"
   ]
  },
  {
   "cell_type": "code",
   "execution_count": null,
   "metadata": {},
   "outputs": [],
   "source": []
  },
  {
   "cell_type": "code",
   "execution_count": null,
   "metadata": {},
   "outputs": [],
   "source": []
  }
 ],
 "metadata": {
  "kernelspec": {
   "display_name": "Python 3",
   "language": "python",
   "name": "python3"
  },
  "language_info": {
   "codemirror_mode": {
    "name": "ipython",
    "version": 3
   },
   "file_extension": ".py",
   "mimetype": "text/x-python",
   "name": "python",
   "nbconvert_exporter": "python",
   "pygments_lexer": "ipython3",
   "version": "3.8.1"
  }
 },
 "nbformat": 4,
 "nbformat_minor": 4
}
