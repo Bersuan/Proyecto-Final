{
 "cells": [
  {
   "cell_type": "code",
   "execution_count": 1,
   "metadata": {},
   "outputs": [],
   "source": [
    "%matplotlib inline\n",
    "\n",
    "import matplotlib.pyplot as plt\n",
    "import pandas as pd\n",
    "from sklearn.metrics import *\n",
    "import seaborn as sns"
   ]
  },
  {
   "cell_type": "code",
   "execution_count": 2,
   "metadata": {},
   "outputs": [],
   "source": [
    "games = pd.read_csv('input/games.csv')"
   ]
  },
  {
   "cell_type": "code",
   "execution_count": 3,
   "metadata": {},
   "outputs": [],
   "source": [
    "ranking = pd.read_csv('input/ranking.csv')"
   ]
  },
  {
   "cell_type": "code",
   "execution_count": 4,
   "metadata": {},
   "outputs": [],
   "source": [
    "top5players = pd.read_csv('output/top5players.csv')"
   ]
  },
  {
   "cell_type": "markdown",
   "metadata": {},
   "source": [
    "TODOS LOS EQUIPOS DE LOCAL"
   ]
  },
  {
   "cell_type": "code",
   "execution_count": 5,
   "metadata": {},
   "outputs": [],
   "source": [
    "todos = games[games['SEASON']>=2019]"
   ]
  },
  {
   "cell_type": "code",
   "execution_count": 6,
   "metadata": {},
   "outputs": [],
   "source": [
    "df_todos = todos[['HOME_TEAM_ID','PTS_home', 'FG_PCT_home', 'FT_PCT_home', 'FG3_PCT_home','AST_home', 'REB_home']]"
   ]
  },
  {
   "cell_type": "code",
   "execution_count": 7,
   "metadata": {},
   "outputs": [],
   "source": [
    "mediasLocales2019 = df_todos.groupby(['HOME_TEAM_ID']).mean()\n"
   ]
  },
  {
   "cell_type": "markdown",
   "metadata": {},
   "source": [
    "TODOS LOS EQUIPOS DE VISITANTE"
   ]
  },
  {
   "cell_type": "code",
   "execution_count": 8,
   "metadata": {},
   "outputs": [],
   "source": [
    "todosVisitantes = games[games['SEASON']>=2019]"
   ]
  },
  {
   "cell_type": "code",
   "execution_count": 9,
   "metadata": {},
   "outputs": [],
   "source": [
    "df_todosVisitantes = todosVisitantes[['VISITOR_TEAM_ID','PTS_away', 'FG_PCT_away', 'FT_PCT_away', 'FG3_PCT_away','AST_away', 'REB_away']]"
   ]
  },
  {
   "cell_type": "code",
   "execution_count": 10,
   "metadata": {},
   "outputs": [],
   "source": [
    "mediasVisitantes2019 = df_todosVisitantes.groupby('VISITOR_TEAM_ID').mean()"
   ]
  },
  {
   "cell_type": "markdown",
   "metadata": {},
   "source": [
    "UNIMOS Y LIMPIAMOS DATAFRAMES"
   ]
  },
  {
   "cell_type": "code",
   "execution_count": 11,
   "metadata": {},
   "outputs": [],
   "source": [
    "df_2019 = games[['GAME_ID','HOME_TEAM_ID', 'VISITOR_TEAM_ID','SEASON','HOME_TEAM_WINS']]"
   ]
  },
  {
   "cell_type": "code",
   "execution_count": 12,
   "metadata": {},
   "outputs": [],
   "source": [
    "df_2019 = df_2019[df_2019['SEASON']>=2019]"
   ]
  },
  {
   "cell_type": "code",
   "execution_count": 13,
   "metadata": {},
   "outputs": [],
   "source": [
    "df_2019 = df_2019.merge(right=mediasLocales2019, on=['HOME_TEAM_ID'])\n"
   ]
  },
  {
   "cell_type": "code",
   "execution_count": 14,
   "metadata": {},
   "outputs": [],
   "source": [
    "df_2019 = df_2019.merge(right=mediasVisitantes2019, on=['VISITOR_TEAM_ID'])\n"
   ]
  },
  {
   "cell_type": "code",
   "execution_count": 15,
   "metadata": {},
   "outputs": [],
   "source": [
    "df_2019['HOME_TEAM_WINS']= df_2019['HOME_TEAM_WINS'].replace({0: 'VISITANTE', 1: 'LOCAL'})"
   ]
  },
  {
   "cell_type": "code",
   "execution_count": 16,
   "metadata": {},
   "outputs": [],
   "source": [
    "categoricalColumns = ['HOME_TEAM_ID', 'VISITOR_TEAM_ID']\n",
    "for i in categoricalColumns:\n",
    "    df_2019[i] = df_2019[i].astype('category')"
   ]
  },
  {
   "cell_type": "code",
   "execution_count": 17,
   "metadata": {},
   "outputs": [
    {
     "data": {
      "text/plain": [
       "GAME_ID               int64\n",
       "HOME_TEAM_ID       category\n",
       "VISITOR_TEAM_ID    category\n",
       "SEASON                int64\n",
       "HOME_TEAM_WINS       object\n",
       "PTS_home            float64\n",
       "FG_PCT_home         float64\n",
       "FT_PCT_home         float64\n",
       "FG3_PCT_home        float64\n",
       "AST_home            float64\n",
       "REB_home            float64\n",
       "PTS_away            float64\n",
       "FG_PCT_away         float64\n",
       "FT_PCT_away         float64\n",
       "FG3_PCT_away        float64\n",
       "AST_away            float64\n",
       "REB_away            float64\n",
       "dtype: object"
      ]
     },
     "execution_count": 17,
     "metadata": {},
     "output_type": "execute_result"
    }
   ],
   "source": [
    "df_2019.dtypes"
   ]
  },
  {
   "cell_type": "code",
   "execution_count": 18,
   "metadata": {},
   "outputs": [
    {
     "data": {
      "text/plain": [
       "<matplotlib.axes._subplots.AxesSubplot at 0x122f56340>"
      ]
     },
     "execution_count": 18,
     "metadata": {},
     "output_type": "execute_result"
    },
    {
     "data": {
      "image/png": "[encoded data removed]",
      "text/plain": [
       "<Figure size 432x288 with 2 Axes>"
      ]
     },
     "metadata": {
      "needs_background": "light"
     },
     "output_type": "display_data"
    }
   ],
   "source": [
    "corr = df_2019.corr()\n",
    "plt.figure()\n",
    "sns.heatmap(corr, cmap='YlGnBu')"
   ]
  },
  {
   "cell_type": "markdown",
   "metadata": {},
   "source": [
    "ENTRENAMOS EL MODELO"
   ]
  },
  {
   "cell_type": "code",
   "execution_count": 19,
   "metadata": {},
   "outputs": [],
   "source": [
    "y = df_2019.HOME_TEAM_WINS"
   ]
  },
  {
   "cell_type": "code",
   "execution_count": 20,
   "metadata": {},
   "outputs": [],
   "source": [
    "X = df_2019.drop(columns =['HOME_TEAM_WINS','SEASON','GAME_ID'])"
   ]
  },
  {
   "cell_type": "code",
   "execution_count": 21,
   "metadata": {},
   "outputs": [],
   "source": [
    "from sklearn.model_selection import train_test_split\n",
    "\n",
    "X_train, X_test, y_train, y_test = train_test_split(X, y, test_size=0.2)"
   ]
  },
  {
   "cell_type": "code",
   "execution_count": 22,
   "metadata": {},
   "outputs": [
    {
     "data": {
      "text/plain": [
       "RandomForestClassifier(bootstrap=True, ccp_alpha=0.0, class_weight=None,\n",
       "                       criterion='gini', max_depth=20, max_features='auto',\n",
       "                       max_leaf_nodes=None, max_samples=None,\n",
       "                       min_impurity_decrease=0.0, min_impurity_split=None,\n",
       "                       min_samples_leaf=3, min_samples_split=2,\n",
       "                       min_weight_fraction_leaf=0.0, n_estimators=800,\n",
       "                       n_jobs=-1, oob_score=False, random_state=111, verbose=0,\n",
       "                       warm_start=False)"
      ]
     },
     "execution_count": 22,
     "metadata": {},
     "output_type": "execute_result"
    }
   ],
   "source": [
    "from sklearn.ensemble import RandomForestClassifier\n",
    "\n",
    "model = RandomForestClassifier(n_estimators=800, max_depth=20, \n",
    "                               min_samples_leaf=3, random_state=111, \n",
    "                               n_jobs = -1)\n",
    "\n",
    "model.fit(X_train, y_train)"
   ]
  },
  {
   "cell_type": "code",
   "execution_count": 23,
   "metadata": {},
   "outputs": [
    {
     "name": "stdout",
     "output_type": "stream",
     "text": [
      "Accurancy 0.6735751295336787\n",
      "Precision 0.6726280015599755\n",
      "Recall 0.6735751295336787\n"
     ]
    }
   ],
   "source": [
    "y_pred=model.predict(X_test)\n",
    "print('Accurancy', accuracy_score(y_test, y_pred))\n",
    "print(\"Precision\", precision_score(y_test, y_pred, average='weighted'))\n",
    "print(\"Recall\", recall_score(y_test, y_pred, average='weighted'))"
   ]
  },
  {
   "cell_type": "code",
   "execution_count": 24,
   "metadata": {},
   "outputs": [
    {
     "data": {
      "text/html": [
       "<div>\n",
       "<style scoped>\n",
       "    .dataframe tbody tr th:only-of-type {\n",
       "        vertical-align: middle;\n",
       "    }\n",
       "\n",
       "    .dataframe tbody tr th {\n",
       "        vertical-align: top;\n",
       "    }\n",
       "\n",
       "    .dataframe thead th {\n",
       "        text-align: right;\n",
       "    }\n",
       "</style>\n",
       "<table border=\"1\" class=\"dataframe\">\n",
       "  <thead>\n",
       "    <tr style=\"text-align: right;\">\n",
       "      <th></th>\n",
       "      <th>real</th>\n",
       "      <th>predicted</th>\n",
       "      <th>probaLocal</th>\n",
       "      <th>probaVisitante</th>\n",
       "    </tr>\n",
       "  </thead>\n",
       "  <tbody>\n",
       "    <tr>\n",
       "      <th>224</th>\n",
       "      <td>VISITANTE</td>\n",
       "      <td>VISITANTE</td>\n",
       "      <td>0.075651</td>\n",
       "      <td>0.924349</td>\n",
       "    </tr>\n",
       "    <tr>\n",
       "      <th>824</th>\n",
       "      <td>VISITANTE</td>\n",
       "      <td>LOCAL</td>\n",
       "      <td>0.530512</td>\n",
       "      <td>0.469488</td>\n",
       "    </tr>\n",
       "    <tr>\n",
       "      <th>713</th>\n",
       "      <td>LOCAL</td>\n",
       "      <td>LOCAL</td>\n",
       "      <td>0.988331</td>\n",
       "      <td>0.011669</td>\n",
       "    </tr>\n",
       "    <tr>\n",
       "      <th>509</th>\n",
       "      <td>LOCAL</td>\n",
       "      <td>LOCAL</td>\n",
       "      <td>0.719767</td>\n",
       "      <td>0.280233</td>\n",
       "    </tr>\n",
       "    <tr>\n",
       "      <th>260</th>\n",
       "      <td>VISITANTE</td>\n",
       "      <td>LOCAL</td>\n",
       "      <td>0.546822</td>\n",
       "      <td>0.453178</td>\n",
       "    </tr>\n",
       "    <tr>\n",
       "      <th>249</th>\n",
       "      <td>LOCAL</td>\n",
       "      <td>LOCAL</td>\n",
       "      <td>0.628111</td>\n",
       "      <td>0.371889</td>\n",
       "    </tr>\n",
       "    <tr>\n",
       "      <th>961</th>\n",
       "      <td>VISITANTE</td>\n",
       "      <td>VISITANTE</td>\n",
       "      <td>0.263768</td>\n",
       "      <td>0.736232</td>\n",
       "    </tr>\n",
       "    <tr>\n",
       "      <th>146</th>\n",
       "      <td>VISITANTE</td>\n",
       "      <td>LOCAL</td>\n",
       "      <td>0.634538</td>\n",
       "      <td>0.365462</td>\n",
       "    </tr>\n",
       "    <tr>\n",
       "      <th>342</th>\n",
       "      <td>VISITANTE</td>\n",
       "      <td>LOCAL</td>\n",
       "      <td>0.623150</td>\n",
       "      <td>0.376850</td>\n",
       "    </tr>\n",
       "    <tr>\n",
       "      <th>232</th>\n",
       "      <td>VISITANTE</td>\n",
       "      <td>VISITANTE</td>\n",
       "      <td>0.138877</td>\n",
       "      <td>0.861123</td>\n",
       "    </tr>\n",
       "    <tr>\n",
       "      <th>624</th>\n",
       "      <td>LOCAL</td>\n",
       "      <td>LOCAL</td>\n",
       "      <td>0.818391</td>\n",
       "      <td>0.181609</td>\n",
       "    </tr>\n",
       "    <tr>\n",
       "      <th>918</th>\n",
       "      <td>VISITANTE</td>\n",
       "      <td>LOCAL</td>\n",
       "      <td>0.654505</td>\n",
       "      <td>0.345495</td>\n",
       "    </tr>\n",
       "    <tr>\n",
       "      <th>899</th>\n",
       "      <td>LOCAL</td>\n",
       "      <td>VISITANTE</td>\n",
       "      <td>0.375995</td>\n",
       "      <td>0.624005</td>\n",
       "    </tr>\n",
       "    <tr>\n",
       "      <th>44</th>\n",
       "      <td>LOCAL</td>\n",
       "      <td>LOCAL</td>\n",
       "      <td>0.539537</td>\n",
       "      <td>0.460463</td>\n",
       "    </tr>\n",
       "    <tr>\n",
       "      <th>23</th>\n",
       "      <td>VISITANTE</td>\n",
       "      <td>VISITANTE</td>\n",
       "      <td>0.134224</td>\n",
       "      <td>0.865776</td>\n",
       "    </tr>\n",
       "    <tr>\n",
       "      <th>253</th>\n",
       "      <td>LOCAL</td>\n",
       "      <td>VISITANTE</td>\n",
       "      <td>0.464697</td>\n",
       "      <td>0.535303</td>\n",
       "    </tr>\n",
       "    <tr>\n",
       "      <th>300</th>\n",
       "      <td>LOCAL</td>\n",
       "      <td>VISITANTE</td>\n",
       "      <td>0.478891</td>\n",
       "      <td>0.521109</td>\n",
       "    </tr>\n",
       "    <tr>\n",
       "      <th>482</th>\n",
       "      <td>LOCAL</td>\n",
       "      <td>LOCAL</td>\n",
       "      <td>0.804538</td>\n",
       "      <td>0.195462</td>\n",
       "    </tr>\n",
       "    <tr>\n",
       "      <th>593</th>\n",
       "      <td>VISITANTE</td>\n",
       "      <td>LOCAL</td>\n",
       "      <td>0.661658</td>\n",
       "      <td>0.338342</td>\n",
       "    </tr>\n",
       "    <tr>\n",
       "      <th>659</th>\n",
       "      <td>LOCAL</td>\n",
       "      <td>LOCAL</td>\n",
       "      <td>0.904392</td>\n",
       "      <td>0.095608</td>\n",
       "    </tr>\n",
       "    <tr>\n",
       "      <th>167</th>\n",
       "      <td>VISITANTE</td>\n",
       "      <td>VISITANTE</td>\n",
       "      <td>0.465455</td>\n",
       "      <td>0.534545</td>\n",
       "    </tr>\n",
       "    <tr>\n",
       "      <th>932</th>\n",
       "      <td>VISITANTE</td>\n",
       "      <td>LOCAL</td>\n",
       "      <td>0.527650</td>\n",
       "      <td>0.472350</td>\n",
       "    </tr>\n",
       "    <tr>\n",
       "      <th>722</th>\n",
       "      <td>VISITANTE</td>\n",
       "      <td>LOCAL</td>\n",
       "      <td>0.967313</td>\n",
       "      <td>0.032687</td>\n",
       "    </tr>\n",
       "    <tr>\n",
       "      <th>320</th>\n",
       "      <td>VISITANTE</td>\n",
       "      <td>VISITANTE</td>\n",
       "      <td>0.409740</td>\n",
       "      <td>0.590260</td>\n",
       "    </tr>\n",
       "    <tr>\n",
       "      <th>328</th>\n",
       "      <td>LOCAL</td>\n",
       "      <td>LOCAL</td>\n",
       "      <td>0.582579</td>\n",
       "      <td>0.417421</td>\n",
       "    </tr>\n",
       "    <tr>\n",
       "      <th>865</th>\n",
       "      <td>VISITANTE</td>\n",
       "      <td>LOCAL</td>\n",
       "      <td>0.586928</td>\n",
       "      <td>0.413072</td>\n",
       "    </tr>\n",
       "    <tr>\n",
       "      <th>405</th>\n",
       "      <td>LOCAL</td>\n",
       "      <td>LOCAL</td>\n",
       "      <td>0.688662</td>\n",
       "      <td>0.311338</td>\n",
       "    </tr>\n",
       "    <tr>\n",
       "      <th>283</th>\n",
       "      <td>LOCAL</td>\n",
       "      <td>VISITANTE</td>\n",
       "      <td>0.470294</td>\n",
       "      <td>0.529706</td>\n",
       "    </tr>\n",
       "    <tr>\n",
       "      <th>474</th>\n",
       "      <td>VISITANTE</td>\n",
       "      <td>VISITANTE</td>\n",
       "      <td>0.368244</td>\n",
       "      <td>0.631756</td>\n",
       "    </tr>\n",
       "    <tr>\n",
       "      <th>70</th>\n",
       "      <td>LOCAL</td>\n",
       "      <td>VISITANTE</td>\n",
       "      <td>0.341768</td>\n",
       "      <td>0.658232</td>\n",
       "    </tr>\n",
       "  </tbody>\n",
       "</table>\n",
       "</div>"
      ],
      "text/plain": [
       "          real  predicted  probaLocal  probaVisitante\n",
       "224  VISITANTE  VISITANTE    0.075651        0.924349\n",
       "824  VISITANTE      LOCAL    0.530512        0.469488\n",
       "713      LOCAL      LOCAL    0.988331        0.011669\n",
       "509      LOCAL      LOCAL    0.719767        0.280233\n",
       "260  VISITANTE      LOCAL    0.546822        0.453178\n",
       "249      LOCAL      LOCAL    0.628111        0.371889\n",
       "961  VISITANTE  VISITANTE    0.263768        0.736232\n",
       "146  VISITANTE      LOCAL    0.634538        0.365462\n",
       "342  VISITANTE      LOCAL    0.623150        0.376850\n",
       "232  VISITANTE  VISITANTE    0.138877        0.861123\n",
       "624      LOCAL      LOCAL    0.818391        0.181609\n",
       "918  VISITANTE      LOCAL    0.654505        0.345495\n",
       "899      LOCAL  VISITANTE    0.375995        0.624005\n",
       "44       LOCAL      LOCAL    0.539537        0.460463\n",
       "23   VISITANTE  VISITANTE    0.134224        0.865776\n",
       "253      LOCAL  VISITANTE    0.464697        0.535303\n",
       "300      LOCAL  VISITANTE    0.478891        0.521109\n",
       "482      LOCAL      LOCAL    0.804538        0.195462\n",
       "593  VISITANTE      LOCAL    0.661658        0.338342\n",
       "659      LOCAL      LOCAL    0.904392        0.095608\n",
       "167  VISITANTE  VISITANTE    0.465455        0.534545\n",
       "932  VISITANTE      LOCAL    0.527650        0.472350\n",
       "722  VISITANTE      LOCAL    0.967313        0.032687\n",
       "320  VISITANTE  VISITANTE    0.409740        0.590260\n",
       "328      LOCAL      LOCAL    0.582579        0.417421\n",
       "865  VISITANTE      LOCAL    0.586928        0.413072\n",
       "405      LOCAL      LOCAL    0.688662        0.311338\n",
       "283      LOCAL  VISITANTE    0.470294        0.529706\n",
       "474  VISITANTE  VISITANTE    0.368244        0.631756\n",
       "70       LOCAL  VISITANTE    0.341768        0.658232"
      ]
     },
     "metadata": {},
     "output_type": "display_data"
    }
   ],
   "source": [
    "from sklearn.metrics import roc_auc_score\n",
    "from sklearn.metrics import roc_curve\n",
    "import matplotlib.pyplot as plt\n",
    "\n",
    "y_score = model.predict_proba(X_test)\n",
    "\n",
    "\n",
    "display(pd.DataFrame({\n",
    "    \"real\":y_test,\n",
    "    \"predicted\":y_pred,\n",
    "    \"probaLocal\":y_score[:,0],\n",
    "    \"probaVisitante\":y_score[:,1]\n",
    "    \n",
    "}).head(30))"
   ]
  },
  {
   "cell_type": "code",
   "execution_count": 25,
   "metadata": {},
   "outputs": [],
   "source": [
    "teams = pd.read_csv('input/teams.csv')"
   ]
  },
  {
   "cell_type": "code",
   "execution_count": 26,
   "metadata": {},
   "outputs": [],
   "source": [
    "teams = teams[['TEAM_ID', 'ABBREVIATION' ]]"
   ]
  },
  {
   "cell_type": "code",
   "execution_count": 27,
   "metadata": {},
   "outputs": [],
   "source": [
    "teams = teams.set_index('ABBREVIATION')"
   ]
  },
  {
   "cell_type": "code",
   "execution_count": 28,
   "metadata": {},
   "outputs": [
    {
     "data": {
      "text/html": [
       "<div>\n",
       "<style scoped>\n",
       "    .dataframe tbody tr th:only-of-type {\n",
       "        vertical-align: middle;\n",
       "    }\n",
       "\n",
       "    .dataframe tbody tr th {\n",
       "        vertical-align: top;\n",
       "    }\n",
       "\n",
       "    .dataframe thead th {\n",
       "        text-align: right;\n",
       "    }\n",
       "</style>\n",
       "<table border=\"1\" class=\"dataframe\">\n",
       "  <thead>\n",
       "    <tr style=\"text-align: right;\">\n",
       "      <th></th>\n",
       "      <th>TEAM_ID</th>\n",
       "    </tr>\n",
       "    <tr>\n",
       "      <th>ABBREVIATION</th>\n",
       "      <th></th>\n",
       "    </tr>\n",
       "  </thead>\n",
       "  <tbody>\n",
       "    <tr>\n",
       "      <th>ATL</th>\n",
       "      <td>1610612737</td>\n",
       "    </tr>\n",
       "    <tr>\n",
       "      <th>BOS</th>\n",
       "      <td>1610612738</td>\n",
       "    </tr>\n",
       "    <tr>\n",
       "      <th>NOP</th>\n",
       "      <td>1610612740</td>\n",
       "    </tr>\n",
       "    <tr>\n",
       "      <th>CHI</th>\n",
       "      <td>1610612741</td>\n",
       "    </tr>\n",
       "    <tr>\n",
       "      <th>DAL</th>\n",
       "      <td>1610612742</td>\n",
       "    </tr>\n",
       "    <tr>\n",
       "      <th>DEN</th>\n",
       "      <td>1610612743</td>\n",
       "    </tr>\n",
       "    <tr>\n",
       "      <th>HOU</th>\n",
       "      <td>1610612745</td>\n",
       "    </tr>\n",
       "    <tr>\n",
       "      <th>LAC</th>\n",
       "      <td>1610612746</td>\n",
       "    </tr>\n",
       "    <tr>\n",
       "      <th>LAL</th>\n",
       "      <td>1610612747</td>\n",
       "    </tr>\n",
       "    <tr>\n",
       "      <th>MIA</th>\n",
       "      <td>1610612748</td>\n",
       "    </tr>\n",
       "    <tr>\n",
       "      <th>MIL</th>\n",
       "      <td>1610612749</td>\n",
       "    </tr>\n",
       "    <tr>\n",
       "      <th>MIN</th>\n",
       "      <td>1610612750</td>\n",
       "    </tr>\n",
       "    <tr>\n",
       "      <th>BKN</th>\n",
       "      <td>1610612751</td>\n",
       "    </tr>\n",
       "    <tr>\n",
       "      <th>NYK</th>\n",
       "      <td>1610612752</td>\n",
       "    </tr>\n",
       "    <tr>\n",
       "      <th>ORL</th>\n",
       "      <td>1610612753</td>\n",
       "    </tr>\n",
       "    <tr>\n",
       "      <th>IND</th>\n",
       "      <td>1610612754</td>\n",
       "    </tr>\n",
       "    <tr>\n",
       "      <th>PHI</th>\n",
       "      <td>1610612755</td>\n",
       "    </tr>\n",
       "    <tr>\n",
       "      <th>PHX</th>\n",
       "      <td>1610612756</td>\n",
       "    </tr>\n",
       "    <tr>\n",
       "      <th>POR</th>\n",
       "      <td>1610612757</td>\n",
       "    </tr>\n",
       "    <tr>\n",
       "      <th>SAC</th>\n",
       "      <td>1610612758</td>\n",
       "    </tr>\n",
       "    <tr>\n",
       "      <th>SAS</th>\n",
       "      <td>1610612759</td>\n",
       "    </tr>\n",
       "    <tr>\n",
       "      <th>OKC</th>\n",
       "      <td>1610612760</td>\n",
       "    </tr>\n",
       "    <tr>\n",
       "      <th>TOR</th>\n",
       "      <td>1610612761</td>\n",
       "    </tr>\n",
       "    <tr>\n",
       "      <th>UTA</th>\n",
       "      <td>1610612762</td>\n",
       "    </tr>\n",
       "    <tr>\n",
       "      <th>MEM</th>\n",
       "      <td>1610612763</td>\n",
       "    </tr>\n",
       "    <tr>\n",
       "      <th>WAS</th>\n",
       "      <td>1610612764</td>\n",
       "    </tr>\n",
       "    <tr>\n",
       "      <th>DET</th>\n",
       "      <td>1610612765</td>\n",
       "    </tr>\n",
       "    <tr>\n",
       "      <th>CHA</th>\n",
       "      <td>1610612766</td>\n",
       "    </tr>\n",
       "    <tr>\n",
       "      <th>CLE</th>\n",
       "      <td>1610612739</td>\n",
       "    </tr>\n",
       "    <tr>\n",
       "      <th>GSW</th>\n",
       "      <td>1610612744</td>\n",
       "    </tr>\n",
       "  </tbody>\n",
       "</table>\n",
       "</div>"
      ],
      "text/plain": [
       "                 TEAM_ID\n",
       "ABBREVIATION            \n",
       "ATL           1610612737\n",
       "BOS           1610612738\n",
       "NOP           1610612740\n",
       "CHI           1610612741\n",
       "DAL           1610612742\n",
       "DEN           1610612743\n",
       "HOU           1610612745\n",
       "LAC           1610612746\n",
       "LAL           1610612747\n",
       "MIA           1610612748\n",
       "MIL           1610612749\n",
       "MIN           1610612750\n",
       "BKN           1610612751\n",
       "NYK           1610612752\n",
       "ORL           1610612753\n",
       "IND           1610612754\n",
       "PHI           1610612755\n",
       "PHX           1610612756\n",
       "POR           1610612757\n",
       "SAC           1610612758\n",
       "SAS           1610612759\n",
       "OKC           1610612760\n",
       "TOR           1610612761\n",
       "UTA           1610612762\n",
       "MEM           1610612763\n",
       "WAS           1610612764\n",
       "DET           1610612765\n",
       "CHA           1610612766\n",
       "CLE           1610612739\n",
       "GSW           1610612744"
      ]
     },
     "execution_count": 28,
     "metadata": {},
     "output_type": "execute_result"
    }
   ],
   "source": [
    "teams"
   ]
  },
  {
   "cell_type": "code",
   "execution_count": 29,
   "metadata": {},
   "outputs": [],
   "source": [
    "def homeTeam (name):\n",
    "    return teams['TEAM_ID'].loc[name]"
   ]
  },
  {
   "cell_type": "code",
   "execution_count": 30,
   "metadata": {},
   "outputs": [
    {
     "data": {
      "text/plain": [
       "1610612747"
      ]
     },
     "execution_count": 30,
     "metadata": {},
     "output_type": "execute_result"
    }
   ],
   "source": [
    "homeTeam('LAL')"
   ]
  },
  {
   "cell_type": "code",
   "execution_count": 31,
   "metadata": {},
   "outputs": [],
   "source": [
    "def awayTeam (name):\n",
    "    return teams['TEAM_ID'].loc[name]"
   ]
  },
  {
   "cell_type": "code",
   "execution_count": 32,
   "metadata": {},
   "outputs": [],
   "source": [
    "def prediceme(local, visitante):\n",
    "    team1 = pd.DataFrame(mediasLocales2019.loc[homeTeam(local)])\n",
    "    team1 = team1.T\n",
    "    team1 = team1.reset_index()\n",
    "    homesTeams = team1.rename(columns={'index':'HOME_TEAM_ID'})\n",
    "    team2 = pd.DataFrame(mediasVisitantes2019.loc[awayTeam(visitante)])\n",
    "    team2 = team2.T\n",
    "    team2 = team2.reset_index()\n",
    "    awayTeams = team2.rename(columns={'index':'VISITOR_TEAM_ID'})\n",
    "    results = pd.concat([homesTeams, awayTeams], axis=1, sort=False)\n",
    "    return model.predict_proba(results)"
   ]
  },
  {
   "cell_type": "code",
   "execution_count": 36,
   "metadata": {},
   "outputs": [
    {
     "data": {
      "text/plain": [
       "array([[0.80996639, 0.19003361]])"
      ]
     },
     "execution_count": 36,
     "metadata": {},
     "output_type": "execute_result"
    }
   ],
   "source": [
    "prediceme('MIL','GSW')"
   ]
  },
  {
   "cell_type": "code",
   "execution_count": 37,
   "metadata": {},
   "outputs": [
    {
     "data": {
      "text/plain": [
       "array([[0.48783515, 0.51216485]])"
      ]
     },
     "execution_count": 37,
     "metadata": {},
     "output_type": "execute_result"
    }
   ],
   "source": [
    "prediceme('GSW','MIL')"
   ]
  },
  {
   "cell_type": "code",
   "execution_count": null,
   "metadata": {},
   "outputs": [],
   "source": []
  }
 ],
 "metadata": {
  "kernelspec": {
   "display_name": "Python 3",
   "language": "python",
   "name": "python3"
  },
  "language_info": {
   "codemirror_mode": {
    "name": "ipython",
    "version": 3
   },
   "file_extension": ".py",
   "mimetype": "text/x-python",
   "name": "python",
   "nbconvert_exporter": "python",
   "pygments_lexer": "ipython3",
   "version": "3.8.1"
  }
 },
 "nbformat": 4,
 "nbformat_minor": 4
}
