{
 "cells": [
  {
   "cell_type": "code",
   "execution_count": 1,
   "metadata": {},
   "outputs": [],
   "source": [
    "import pandas as pd"
   ]
  },
  {
   "cell_type": "code",
   "execution_count": 2,
   "metadata": {},
   "outputs": [],
   "source": [
    "players = pd.read_csv('input/players.csv')"
   ]
  },
  {
   "cell_type": "code",
   "execution_count": 3,
   "metadata": {},
   "outputs": [],
   "source": [
    "salaries = pd.read_csv('input/salaries.csv')"
   ]
  },
  {
   "cell_type": "code",
   "execution_count": 4,
   "metadata": {},
   "outputs": [],
   "source": [
    "salaries = salaries.drop(['Unnamed: 0'], axis=1)"
   ]
  },
  {
   "cell_type": "code",
   "execution_count": 5,
   "metadata": {},
   "outputs": [
    {
     "data": {
      "text/html": [
       "<div>\n",
       "<style scoped>\n",
       "    .dataframe tbody tr th:only-of-type {\n",
       "        vertical-align: middle;\n",
       "    }\n",
       "\n",
       "    .dataframe tbody tr th {\n",
       "        vertical-align: top;\n",
       "    }\n",
       "\n",
       "    .dataframe thead th {\n",
       "        text-align: right;\n",
       "    }\n",
       "</style>\n",
       "<table border=\"1\" class=\"dataframe\">\n",
       "  <thead>\n",
       "    <tr style=\"text-align: right;\">\n",
       "      <th></th>\n",
       "      <th>equipo</th>\n",
       "      <th>nombre</th>\n",
       "      <th>salarios</th>\n",
       "    </tr>\n",
       "  </thead>\n",
       "  <tbody>\n",
       "    <tr>\n",
       "      <th>0</th>\n",
       "      <td>atlanta-hawks</td>\n",
       "      <td>Evan Turner</td>\n",
       "      <td>18.606.557 $</td>\n",
       "    </tr>\n",
       "    <tr>\n",
       "      <th>1</th>\n",
       "      <td>atlanta-hawks</td>\n",
       "      <td>Jabari Parker</td>\n",
       "      <td>6.500.000 $</td>\n",
       "    </tr>\n",
       "    <tr>\n",
       "      <th>2</th>\n",
       "      <td>atlanta-hawks</td>\n",
       "      <td>Chandler Parsons</td>\n",
       "      <td>25.102.511 $</td>\n",
       "    </tr>\n",
       "    <tr>\n",
       "      <th>3</th>\n",
       "      <td>atlanta-hawks</td>\n",
       "      <td>Cameron Reddish</td>\n",
       "      <td>4.245.720 $</td>\n",
       "    </tr>\n",
       "    <tr>\n",
       "      <th>4</th>\n",
       "      <td>atlanta-hawks</td>\n",
       "      <td>Damian Jones</td>\n",
       "      <td>2.305.057 $</td>\n",
       "    </tr>\n",
       "    <tr>\n",
       "      <th>...</th>\n",
       "      <td>...</td>\n",
       "      <td>...</td>\n",
       "      <td>...</td>\n",
       "    </tr>\n",
       "    <tr>\n",
       "      <th>524</th>\n",
       "      <td>washington-wizards</td>\n",
       "      <td>Jemerrio Jones</td>\n",
       "      <td>1.416.852 $</td>\n",
       "    </tr>\n",
       "    <tr>\n",
       "      <th>525</th>\n",
       "      <td>washington-wizards</td>\n",
       "      <td>Jordan McRae</td>\n",
       "      <td>1.645.357 $</td>\n",
       "    </tr>\n",
       "    <tr>\n",
       "      <th>526</th>\n",
       "      <td>washington-wizards</td>\n",
       "      <td>Phil Booth</td>\n",
       "      <td>898.310 $</td>\n",
       "    </tr>\n",
       "    <tr>\n",
       "      <th>527</th>\n",
       "      <td>washington-wizards</td>\n",
       "      <td>Justin Robinson</td>\n",
       "      <td>838.464 $</td>\n",
       "    </tr>\n",
       "    <tr>\n",
       "      <th>528</th>\n",
       "      <td>washington-wizards</td>\n",
       "      <td>Garrison Mathews</td>\n",
       "      <td>Ambivalente</td>\n",
       "    </tr>\n",
       "  </tbody>\n",
       "</table>\n",
       "<p>529 rows × 3 columns</p>\n",
       "</div>"
      ],
      "text/plain": [
       "                 equipo            nombre      salarios\n",
       "0         atlanta-hawks       Evan Turner  18.606.557 $\n",
       "1         atlanta-hawks     Jabari Parker   6.500.000 $\n",
       "2         atlanta-hawks  Chandler Parsons  25.102.511 $\n",
       "3         atlanta-hawks   Cameron Reddish   4.245.720 $\n",
       "4         atlanta-hawks      Damian Jones   2.305.057 $\n",
       "..                  ...               ...           ...\n",
       "524  washington-wizards    Jemerrio Jones   1.416.852 $\n",
       "525  washington-wizards      Jordan McRae   1.645.357 $\n",
       "526  washington-wizards        Phil Booth     898.310 $\n",
       "527  washington-wizards   Justin Robinson     838.464 $\n",
       "528  washington-wizards  Garrison Mathews   Ambivalente\n",
       "\n",
       "[529 rows x 3 columns]"
      ]
     },
     "execution_count": 5,
     "metadata": {},
     "output_type": "execute_result"
    }
   ],
   "source": [
    "salaries"
   ]
  },
  {
   "cell_type": "code",
   "execution_count": 6,
   "metadata": {},
   "outputs": [],
   "source": [
    "salaries = salaries.drop(salaries[salaries.salarios=='Ambivalente'].index, inplace = True)"
   ]
  },
  {
   "cell_type": "code",
   "execution_count": 7,
   "metadata": {},
   "outputs": [
    {
     "ename": "AttributeError",
     "evalue": "'NoneType' object has no attribute 'drop'",
     "output_type": "error",
     "traceback": [
      "\u001b[0;31m---------------------------------------------------------------------------\u001b[0m",
      "\u001b[0;31mAttributeError\u001b[0m                            Traceback (most recent call last)",
      "\u001b[0;32m<ipython-input-7-04265cd4b2dd>\u001b[0m in \u001b[0;36m<module>\u001b[0;34m\u001b[0m\n\u001b[0;32m----> 1\u001b[0;31m \u001b[0msalaries\u001b[0m \u001b[0;34m=\u001b[0m \u001b[0msalaries\u001b[0m\u001b[0;34m.\u001b[0m\u001b[0mdrop\u001b[0m\u001b[0;34m(\u001b[0m\u001b[0msalaries\u001b[0m\u001b[0;34m[\u001b[0m\u001b[0msalaries\u001b[0m\u001b[0;34m.\u001b[0m\u001b[0msalarios\u001b[0m\u001b[0;34m==\u001b[0m\u001b[0;34m'Agente Libre'\u001b[0m\u001b[0;34m]\u001b[0m\u001b[0;34m.\u001b[0m\u001b[0mindex\u001b[0m\u001b[0;34m,\u001b[0m \u001b[0minplace\u001b[0m \u001b[0;34m=\u001b[0m \u001b[0;32mTrue\u001b[0m\u001b[0;34m)\u001b[0m\u001b[0;34m\u001b[0m\u001b[0;34m\u001b[0m\u001b[0m\n\u001b[0m",
      "\u001b[0;31mAttributeError\u001b[0m: 'NoneType' object has no attribute 'drop'"
     ]
    }
   ],
   "source": [
    "salaries = salaries.drop(salaries[salaries.salarios=='Agente Libre'].index, inplace = True)"
   ]
  },
  {
   "cell_type": "code",
   "execution_count": null,
   "metadata": {},
   "outputs": [],
   "source": [
    "salaries = salaries.drop(salaries[salaries.salarios=='AL Restringido'].index, inplace = True)"
   ]
  },
  {
   "cell_type": "code",
   "execution_count": null,
   "metadata": {},
   "outputs": [],
   "source": [
    "salaries.salarios.unique()"
   ]
  },
  {
   "cell_type": "code",
   "execution_count": null,
   "metadata": {},
   "outputs": [],
   "source": [
    "for i,element in enumerate(salaries.salarios):\n",
    "    salaries.salarios[i] = element[:-2]"
   ]
  },
  {
   "cell_type": "code",
   "execution_count": null,
   "metadata": {},
   "outputs": [],
   "source": [
    "salaries.salarios.unique()"
   ]
  },
  {
   "cell_type": "code",
   "execution_count": null,
   "metadata": {},
   "outputs": [],
   "source": []
  },
  {
   "cell_type": "code",
   "execution_count": null,
   "metadata": {},
   "outputs": [],
   "source": []
  }
 ],
 "metadata": {
  "kernelspec": {
   "display_name": "Python 3",
   "language": "python",
   "name": "python3"
  },
  "language_info": {
   "codemirror_mode": {
    "name": "ipython",
    "version": 3
   },
   "file_extension": ".py",
   "mimetype": "text/x-python",
   "name": "python",
   "nbconvert_exporter": "python",
   "pygments_lexer": "ipython3",
   "version": "3.8.1"
  }
 },
 "nbformat": 4,
 "nbformat_minor": 4
}
